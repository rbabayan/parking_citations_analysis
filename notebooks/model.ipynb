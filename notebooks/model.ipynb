{
 "cells": [
  {
   "cell_type": "code",
   "execution_count": 19,
   "metadata": {},
   "outputs": [],
   "source": [
    "import pandas as pd\n",
    "import numpy as np\n",
    "from sklearn.preprocessing import LabelEncoder, StandardScaler, MinMaxScaler\n",
    "from sklearn.feature_selection import SelectKBest, chi2\n",
    "from sklearn.model_selection import StratifiedKFold, train_test_split, GridSearchCV, cross_val_score\n",
    "from sklearn.linear_model import LogisticRegression\n",
    "from sklearn.metrics import recall_score, precision_score, auc, precision_recall_curve, roc_curve\n",
    "from sklearn.pipeline import Pipeline\n",
    "import matplotlib.pyplot as plt\n",
    "from statistics import mean \n",
    "from sklearn.linear_model import LogisticRegression\n",
    "from sklearn.ensemble import RandomForestClassifier\n",
    "from sklearn.preprocessing import OneHotEncoder\n",
    "from sklearn.naive_bayes import GaussianNB\n",
    "import pickle"
   ]
  },
  {
   "cell_type": "code",
   "execution_count": 2,
   "metadata": {},
   "outputs": [],
   "source": [
    "df = pd.read_csv(\"../dataset.csv\", \n",
    "                  usecols=None,\n",
    "                  low_memory=False, \n",
    "                  dtype=str\n",
    "                )"
   ]
  },
  {
   "cell_type": "markdown",
   "metadata": {},
   "source": [
    "#### VIN, Metered Time and Meter ID columns can be dropped because of their low frequency"
   ]
  },
  {
   "cell_type": "code",
   "execution_count": 3,
   "metadata": {},
   "outputs": [],
   "source": [
    "df = df.drop(columns=[\"VIN\", \"Marked Time\", \"Meter Id\"])"
   ]
  },
  {
   "cell_type": "markdown",
   "metadata": {},
   "source": [
    "### Kept 20% of of training dataset untouched for final testing of the model"
   ]
  },
  {
   "cell_type": "code",
   "execution_count": 4,
   "metadata": {},
   "outputs": [],
   "source": [
    "# Keep 20% of training data for final test\n",
    "train_org = df[~df[\"Make\"].isna()]\n",
    "train_org = train_org.sample(frac=1, random_state=22)\n",
    "final_test = train_org.sample(frac = 0.2, random_state=22) \n",
    "train_org = train_org[~train_org[\"Ticket number\"].isin(final_test[\"Ticket number\"])]\n",
    "no_label_test = df[df[\"Make\"].isna()]"
   ]
  },
  {
   "cell_type": "code",
   "execution_count": 5,
   "metadata": {},
   "outputs": [
    {
     "name": "stdout",
     "output_type": "stream",
     "text": [
      "Training dataset:  3486035\n",
      "Final test dataset :  871509\n",
      "No label dataset:  4368470\n"
     ]
    }
   ],
   "source": [
    "print(\"Training dataset: \", train_org[\"Ticket number\"].nunique())\n",
    "print(\"Final test dataset : \", final_test[\"Ticket number\"].nunique())\n",
    "print(\"No label dataset: \", no_label_test[\"Ticket number\"].nunique())"
   ]
  },
  {
   "cell_type": "markdown",
   "metadata": {},
   "source": [
    "## Data Preprocessing"
   ]
  },
  {
   "cell_type": "markdown",
   "metadata": {},
   "source": [
    " ###   1. Convert Target Class to Binary"
   ]
  },
  {
   "cell_type": "code",
   "execution_count": 6,
   "metadata": {},
   "outputs": [],
   "source": [
    "# 1: Top25 , 0:uncommon make\n",
    "def create_label(col,common_makes):\n",
    "    if col in common_makes:\n",
    "        return 1\n",
    "    else:\n",
    "        return 0"
   ]
  },
  {
   "cell_type": "code",
   "execution_count": 7,
   "metadata": {},
   "outputs": [],
   "source": [
    "label_freq = pd.DataFrame({\"make\":train_org[\"Make\"].value_counts().index, \n",
    "                           \"freq\":train_org[\"Make\"].value_counts().values\n",
    "                          })\n",
    "label_freq = label_freq.sort_values(\"freq\", ascending=False)\n",
    "\n",
    "top_25 = label_freq[:25]\n",
    "common_makes = list(top_25[\"make\"].unique())\n",
    "\n",
    "train_org.loc[:,\"target\"] = train_org[\"Make\"].apply(lambda x: create_label(x, common_makes))\n",
    "\n",
    "# Remove redundunt columns\n",
    "train_org = train_org.drop(columns=[\"Violation Description\", \"Location\", \"Make\"])"
   ]
  },
  {
   "cell_type": "code",
   "execution_count": 8,
   "metadata": {},
   "outputs": [
    {
     "name": "stdout",
     "output_type": "stream",
     "text": [
      "Data is unbalanced toward lable 1\n",
      "1    3188614\n",
      "0     297421\n",
      "Name: target, dtype: int64\n"
     ]
    }
   ],
   "source": [
    "print(\"Data is unbalanced toward lable 1\")\n",
    "print(train_org[\"target\"].value_counts())"
   ]
  },
  {
   "cell_type": "markdown",
   "metadata": {},
   "source": [
    "### 2. One-Hot encoding categorical features"
   ]
  },
  {
   "cell_type": "code",
   "execution_count": 9,
   "metadata": {},
   "outputs": [],
   "source": [
    "train = train_org.drop(columns=['Route', 'Violation code', 'RP State Plate', \"Issue Date\", \n",
    "                                'Agency', 'Issue time', 'Latitude', 'Longitude'])\n",
    "\n",
    "categorical_columns = ['Color', 'Body Style']\n",
    "numerical_columns = ['Fine amount', 'Plate Expiry Date']\n",
    "\n",
    "train = pd.get_dummies(data=train, columns=categorical_columns)\n",
    "\n",
    "train = train.fillna(0)\n",
    "train = train.sample(frac=1)"
   ]
  },
  {
   "cell_type": "markdown",
   "metadata": {},
   "source": [
    "### 3. Standardized (scaled) features, feature selection and fitting the model workflow"
   ]
  },
  {
   "cell_type": "code",
   "execution_count": 74,
   "metadata": {},
   "outputs": [
    {
     "name": "stdout",
     "output_type": "stream",
     "text": [
      "Fitting 2 folds for each of 27 candidates, totalling 54 fits\n",
      "['Plate Expiry Date', 'Color_BG', 'Color_BN', 'Color_GY', 'Color_SL', 'Color_TA', 'Color_WH', 'Color_YE', 'Body Style_BU', 'Body Style_CM', 'Body Style_MC', 'Body Style_MH', 'Body Style_MS', 'Body Style_PA', 'Body Style_PU', 'Body Style_RV', 'Body Style_TK', 'Body Style_TL', 'Body Style_TR']\n",
      "Best score for data: 0.6537623068834484\n",
      "Best C: {'skb__k': 19}\n",
      "Fitting 2 folds for each of 27 candidates, totalling 54 fits\n",
      "['Plate Expiry Date', 'Color_BG', 'Color_BN', 'Color_GY', 'Color_SL', 'Color_TA', 'Color_WH', 'Color_YE', 'Body Style_BU', 'Body Style_CM', 'Body Style_MC', 'Body Style_MH', 'Body Style_MS', 'Body Style_PA', 'Body Style_PU', 'Body Style_RV', 'Body Style_TK', 'Body Style_TL', 'Body Style_TR']\n",
      "Best score for data: 0.6531215026656075\n",
      "Best C: {'skb__k': 19}\n",
      "Fitting 2 folds for each of 27 candidates, totalling 54 fits\n",
      "['Plate Expiry Date', 'Color_BG', 'Color_BN', 'Color_GY', 'Color_SL', 'Color_TA', 'Color_WH', 'Color_YE', 'Body Style_BU', 'Body Style_CM', 'Body Style_MC', 'Body Style_MH', 'Body Style_MS', 'Body Style_PA', 'Body Style_PU', 'Body Style_RV', 'Body Style_TK', 'Body Style_TL', 'Body Style_TR']\n",
      "Best score for data: 0.6529441142474853\n",
      "Best C: {'skb__k': 19}\n",
      "Fitting 2 folds for each of 27 candidates, totalling 54 fits\n",
      "['Plate Expiry Date', 'Color_BG', 'Color_BN', 'Color_GY', 'Color_SL', 'Color_TA', 'Color_WH', 'Color_YE', 'Body Style_BU', 'Body Style_CM', 'Body Style_MC', 'Body Style_MH', 'Body Style_MS', 'Body Style_PA', 'Body Style_PU', 'Body Style_RV', 'Body Style_TK', 'Body Style_TL', 'Body Style_TR']\n",
      "Best score for data: 0.653569958085942\n",
      "Best C: {'skb__k': 19}\n",
      "Fitting 2 folds for each of 27 candidates, totalling 54 fits\n",
      "['Plate Expiry Date', 'Color_BG', 'Color_BN', 'Color_GY', 'Color_SL', 'Color_TA', 'Color_WH', 'Color_YE', 'Body Style_BU', 'Body Style_CM', 'Body Style_MC', 'Body Style_MH', 'Body Style_MS', 'Body Style_PA', 'Body Style_PU', 'Body Style_RV', 'Body Style_TK', 'Body Style_TL', 'Body Style_TR']\n",
      "Best score for data: 0.6539014977343811\n",
      "Best C: {'skb__k': 19}\n"
     ]
    }
   ],
   "source": [
    "kfold = StratifiedKFold(n_splits=5, shuffle=True, random_state=1)\n",
    "scaler = MinMaxScaler()\n",
    "clf = LogisticRegression(class_weight = {0: len(train)/len(train[\"target\"]==0), \n",
    "                                         1: len(train)/len(train[\"target\"]==1)}, max_iter = 10000)\n",
    "\n",
    "x = train.drop(columns=[\"Ticket number\", \"target\"])\n",
    "y = train[[\"target\"]]\n",
    "param_candidate = [{'skb__k':list(range(1,20))}, \n",
    "                   {'estimator__C': [0.00001, 0.0001, 0.001, 0.01, 0.1, 10, 100, 1000]}] #\n",
    "\n",
    "\n",
    "avg_scores = []\n",
    "\n",
    "pipeline = Pipeline([('scalar', scaler), ('skb', SelectKBest(chi2)), ('estimator', clf)]) \n",
    "scores = []\n",
    "\n",
    "for train_ix, test_ix in kfold.split(train, y):\n",
    "\n",
    "    test_X = x.iloc[test_ix]\n",
    "    test_y = y.iloc[test_ix].values\n",
    "\n",
    "    train_X = x.iloc[train_ix]\n",
    "    train_y = y.iloc[train_ix].values\n",
    "\n",
    "    clf = GridSearchCV(pipeline, param_grid=param_candidate, cv=2,scoring=\"roc_auc\", verbose=1)\n",
    "    clf = clf.fit(train_X, train_y.ravel())\n",
    "    \n",
    "    features=list(train_X.columns[clf.best_estimator_.named_steps.skb.get_support()])\n",
    "    print(features)\n",
    "\n",
    "    print('Best score for data:', clf.best_score_) \n",
    "    print('Best C:',clf.best_params_) \n",
    "\n",
    "    predicts = clf.predict_proba(test_X)[:,1]\n",
    "    fpr, tpr, thresholds = roc_curve(test_y, predicts, pos_label=1)\n",
    "    auc_scoure = auc(fpr, tpr)\n",
    "\n",
    "    scores.append(auc_scoure)"
   ]
  },
  {
   "cell_type": "markdown",
   "metadata": {},
   "source": [
    "#### Based on this feature selection we are going to drop  'Latitude', 'Longitude'  columns. They don't look like important features. If I had more time I would probably explore clustering the lat/long to convert them to categories using geolocations\n",
    "#### Also based on data analysis it makes sense to drop 'Agency' and 'Issue time'."
   ]
  },
  {
   "cell_type": "markdown",
   "metadata": {},
   "source": [
    "### Funtions for the model server"
   ]
  },
  {
   "cell_type": "code",
   "execution_count": 12,
   "metadata": {},
   "outputs": [],
   "source": [
    "def build_labels(train_set):\n",
    "    \n",
    "    train_org = train_set[~train_set[\"Make\"].isna()]\n",
    "    train_org = train_org.sample(frac=1, random_state=22)\n",
    "    \n",
    "    label_freq = pd.DataFrame({\"make\":train_org[\"Make\"].value_counts().index, \n",
    "                           \"freq\":train_org[\"Make\"].value_counts().values\n",
    "                              })\n",
    "    \n",
    "    label_freq = label_freq.sort_values(\"freq\", ascending=False)\n",
    "\n",
    "    top_25 = label_freq[:25]\n",
    "    common_makes = list(top_25[\"make\"].unique())\n",
    "\n",
    "    train_org.loc[:,\"target\"] = train_org[\"Make\"].apply(lambda x: create_label(x, common_makes))\n",
    "    train_org = train_org.drop(columns = \"Make\")\n",
    "    \n",
    "    return train_org\n",
    "    "
   ]
  },
  {
   "cell_type": "code",
   "execution_count": 63,
   "metadata": {},
   "outputs": [],
   "source": [
    "def preprocess_data(df, categorical_columns = ['Color', 'Body Style']):\n",
    "    \n",
    "    df = df[~df[\"Make\"].isna()]\n",
    "\n",
    "    df = df.drop(columns=[\"VIN\", \"Marked Time\", \"Meter Id\", \"Issue Date\", \n",
    "                          \"Violation Description\", \"Location\", 'Route', \n",
    "                          'Violation code', 'RP State Plate', \"Issue Date\", 'Latitude', 'Longitude', \n",
    "                          'Agency', 'Issue time'])\n",
    "    \n",
    "    train = pd.get_dummies(data=df, columns=categorical_columns)\n",
    "\n",
    "    train = train.fillna(0)\n",
    "    train = train.sample(frac=1)\n",
    "    \n",
    "    return train"
   ]
  },
  {
   "cell_type": "code",
   "execution_count": 14,
   "metadata": {},
   "outputs": [],
   "source": [
    "def train_model(train_dataset):\n",
    "    \n",
    "    scaler = MinMaxScaler()\n",
    "    clf = LogisticRegression(class_weight = {0: len(train)/len(train[\"target\"]==0), \n",
    "                                             1: len(train)/len(train[\"target\"]==1)}, max_iter = 10000)\n",
    "\n",
    "    pipeline = Pipeline([('scalar', scaler), ('skb', SelectKBest(chi2)), ('estimator', clf)]) \n",
    "\n",
    "    x = train_dataset.drop(columns=[\"Ticket number\", \"target\"])\n",
    "    y = train_dataset[[\"target\"]].values\n",
    "\n",
    "    param_candidate = [{'estimator__C': [0.00001, 0.0001, 0.001, 0.01, 0.1, 10, 100]}, \n",
    "                       {'skb__k':list(range(1,20))}]\n",
    "\n",
    "    clf = GridSearchCV(pipeline, param_grid=param_candidate, cv=2,scoring=\"roc_auc\", verbose=1)\n",
    "    clf = clf.fit(x, y.ravel())\n",
    "\n",
    "    print('Best score for data:', clf.best_score_) \n",
    "    print('Best params:',clf.best_params_) \n",
    "        \n",
    "    \n",
    "    return clf"
   ]
  },
  {
   "cell_type": "markdown",
   "metadata": {},
   "source": [
    "### Train and fit with training data and test on 20% data"
   ]
  },
  {
   "cell_type": "code",
   "execution_count": 65,
   "metadata": {},
   "outputs": [],
   "source": [
    "df = pd.read_csv(\"../dataset.csv\", \n",
    "                  usecols=None,\n",
    "                  low_memory=False, \n",
    "                  dtype=str\n",
    "                )"
   ]
  },
  {
   "cell_type": "markdown",
   "metadata": {},
   "source": [
    "#### prepocess data"
   ]
  },
  {
   "cell_type": "code",
   "execution_count": 66,
   "metadata": {},
   "outputs": [],
   "source": [
    "df_dataset = preprocess_data(df)"
   ]
  },
  {
   "cell_type": "code",
   "execution_count": 67,
   "metadata": {},
   "outputs": [],
   "source": [
    "# Keep 20% of training data for final test\n",
    "train_org = df_dataset[~df_dataset[\"Make\"].isna()]\n",
    "train_org = build_labels(train_org)"
   ]
  },
  {
   "cell_type": "code",
   "execution_count": 68,
   "metadata": {},
   "outputs": [],
   "source": [
    "train_org = train_org.sample(frac=1, random_state=22)\n",
    "final_test = train_org.sample(frac = 0.2, random_state=22) \n",
    "train_org = train_org[~train_org[\"Ticket number\"].isin(final_test[\"Ticket number\"])]"
   ]
  },
  {
   "cell_type": "markdown",
   "metadata": {},
   "source": [
    "##### Train Model"
   ]
  },
  {
   "cell_type": "code",
   "execution_count": null,
   "metadata": {},
   "outputs": [],
   "source": [
    "#Run Pre Trained Model:\n",
    "model_details = pickle.load(open(\"../clf_features_pretraind.pkl\",\"rb\"))\n",
    "clf = model_details[0]\n",
    "features = list(model_details[1])\n",
    "\n",
    "#Train A Model\n",
    "# clf = train_model(train_org, use_pre_trained = False)"
   ]
  },
  {
   "cell_type": "markdown",
   "metadata": {},
   "source": [
    "#### Preprocess Test Set"
   ]
  },
  {
   "cell_type": "code",
   "execution_count": 72,
   "metadata": {},
   "outputs": [],
   "source": [
    "X_test = final_test.drop(columns=[\"Ticket number\", \"target\"])\n",
    "Y_test = final_test[[\"target\"]].values"
   ]
  },
  {
   "cell_type": "code",
   "execution_count": 73,
   "metadata": {},
   "outputs": [
    {
     "data": {
      "text/plain": [
       "1    796855\n",
       "0     74654\n",
       "Name: target, dtype: int64"
      ]
     },
     "execution_count": 73,
     "metadata": {},
     "output_type": "execute_result"
    }
   ],
   "source": [
    "final_test[\"target\"].value_counts()"
   ]
  },
  {
   "cell_type": "markdown",
   "metadata": {},
   "source": [
    "##### Run on test set"
   ]
  },
  {
   "cell_type": "code",
   "execution_count": 74,
   "metadata": {},
   "outputs": [],
   "source": [
    "predicts = clf.predict_proba(X_test)[:,1]\n",
    "fpr, tpr, thresholds = roc_curve(Y_test, predicts, pos_label=1)\n",
    "auc_scoure = auc(fpr, tpr)"
   ]
  },
  {
   "cell_type": "markdown",
   "metadata": {},
   "source": [
    "##### Model evaluation"
   ]
  },
  {
   "cell_type": "markdown",
   "metadata": {},
   "source": [
    "#### The baseline AUC was 0.56. Using feature selection and fine tuning we improved the model to 0.65\n",
    "#### The dataset is very unbalanced. This is probably why using AUC is better than presion and recall."
   ]
  },
  {
   "cell_type": "code",
   "execution_count": 75,
   "metadata": {},
   "outputs": [
    {
     "data": {
      "text/plain": [
       "0.6536407686381056"
      ]
     },
     "execution_count": 75,
     "metadata": {},
     "output_type": "execute_result"
    }
   ],
   "source": [
    "auc_scoure"
   ]
  },
  {
   "cell_type": "code",
   "execution_count": 76,
   "metadata": {},
   "outputs": [
    {
     "data": {
      "image/png": "[encoded data removed]",
      "text/plain": [
       "<Figure size 432x288 with 2 Axes>"
      ]
     },
     "metadata": {
      "needs_background": "light"
     },
     "output_type": "display_data"
    }
   ],
   "source": [
    "from sklearn.metrics import plot_confusion_matrix\n",
    "\n",
    "disp = plot_confusion_matrix(clf, X_test, Y_test,\n",
    "                                 display_labels=[\"uncommon\", \"common\"],\n",
    "                                 cmap=plt.cm.Blues,\n",
    "                                 normalize='all')"
   ]
  },
  {
   "cell_type": "markdown",
   "metadata": {},
   "source": [
    "#### The model is very generous in predicting label 1 (common make).  Possible next steps could be:\n",
    "    1. Trying training model with balanced data instead of startified kfold \n",
    "    2. Adding roc curve in cross validation for each fold to understand model's behaviour better"
   ]
  },
  {
   "cell_type": "code",
   "execution_count": 77,
   "metadata": {},
   "outputs": [],
   "source": [
    "from sklearn.metrics import plot_roc_curve, plot_roc_curve"
   ]
  },
  {
   "cell_type": "code",
   "execution_count": 78,
   "metadata": {},
   "outputs": [
    {
     "data": {
      "text/plain": [
       "<sklearn.metrics._plot.roc_curve.RocCurveDisplay at 0x7f77ba54f588>"
      ]
     },
     "execution_count": 78,
     "metadata": {},
     "output_type": "execute_result"
    },
    {
     "data": {
      "image/png": "[encoded data removed]",
      "text/plain": [
       "<Figure size 432x288 with 1 Axes>"
      ]
     },
     "metadata": {
      "needs_background": "light"
     },
     "output_type": "display_data"
    }
   ],
   "source": [
    "plot_roc_curve(clf, X_test, Y_test, pos_label=1) "
   ]
  },
  {
   "cell_type": "code",
   "execution_count": 79,
   "metadata": {},
   "outputs": [
    {
     "name": "stdout",
     "output_type": "stream",
     "text": [
      "              precision    recall  f1-score   support\n",
      "\n",
      "           0       0.50      0.08      0.14     74654\n",
      "           1       0.92      0.99      0.95    796855\n",
      "\n",
      "    accuracy                           0.91    871509\n",
      "   macro avg       0.71      0.54      0.55    871509\n",
      "weighted avg       0.88      0.91      0.89    871509\n",
      "\n"
     ]
    }
   ],
   "source": [
    "from sklearn.metrics import classification_report\n",
    "threshold = 0.6\n",
    "preds_label = np.where(predicts>threshold, 1, 0)\n",
    "print(classification_report(Y_test, preds_label))"
   ]
  },
  {
   "cell_type": "code",
   "execution_count": null,
   "metadata": {},
   "outputs": [],
   "source": []
  }
 ],
 "metadata": {
  "kernelspec": {
   "display_name": "venv",
   "language": "python",
   "name": "venv"
  },
  "language_info": {
   "codemirror_mode": {
    "name": "ipython",
    "version": 3
   },
   "file_extension": ".py",
   "mimetype": "text/x-python",
   "name": "python",
   "nbconvert_exporter": "python",
   "pygments_lexer": "ipython3",
   "version": "3.7.3"
  }
 },
 "nbformat": 4,
 "nbformat_minor": 2
}
